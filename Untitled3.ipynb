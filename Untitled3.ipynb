{
 "cells": [
  {
   "cell_type": "code",
   "execution_count": 1,
   "id": "18ac32fa",
   "metadata": {},
   "outputs": [],
   "source": [
    "import os\n",
    "# os.environ['KMP_DUPLICATE_LIB_OK']=\"TRUE\"\n",
    "\n",
    "\n",
    "import numpy as np\n",
    "import pandas as pd"
   ]
  },
  {
   "cell_type": "code",
   "execution_count": 3,
   "id": "56495a20",
   "metadata": {},
   "outputs": [],
   "source": [
    "completePath = \"Compiled/\"\n",
    "categories = [\"Notes\", \"Fruits\", \"Obstacles\"]\n",
    "\n",
    "completeList = []\n",
    "for i in range(len(categories)):\n",
    "    string = completePath+categories[i]\n",
    "# count = 0\n",
    "# i = 0\n",
    "    for names in os.listdir(string):\n",
    "#     count+=1\n",
    "#     if(170>=count>120):\n",
    "#         i = 1\n",
    "#     if(210>=count>170):\n",
    "#         i = 2\n",
    "#     if(250>=count>210):\n",
    "#         i = 3\n",
    "#     if(290>=count>250):\n",
    "#         i = 4\n",
    "#     if(340>=count>290):\n",
    "#         i = 5\n",
    "#     if(390>=count>340):\n",
    "#         i = 6\n",
    "#     if(455>=count>390):\n",
    "#         i = 7\n",
    "#     if(495>=count>455):\n",
    "#         i = 8\n",
    "#     if(560>=count>495):\n",
    "#         i = 9\n",
    "#     if(640>=count>560):\n",
    "#         i = 10\n",
    "#     if(690>=count>640):\n",
    "#         i = 11\n",
    "#     if(740>=count>690):\n",
    "#         i = 12\n",
    "    \n",
    "        temp = [names, i]\n",
    "        completeList.append(temp)"
   ]
  },
  {
   "cell_type": "code",
   "execution_count": 6,
   "id": "38dadf33",
   "metadata": {},
   "outputs": [],
   "source": [
    "array = np.asarray(completeList)\n",
    "df = pd.DataFrame(data = array)\n",
    "df.to_csv(\"compiledLables.csv\")"
   ]
  },
  {
   "cell_type": "code",
   "execution_count": null,
   "id": "9a12e7bc",
   "metadata": {},
   "outputs": [],
   "source": []
  }
 ],
 "metadata": {
  "kernelspec": {
   "display_name": "Python 3 (ipykernel)",
   "language": "python",
   "name": "python3"
  },
  "language_info": {
   "codemirror_mode": {
    "name": "ipython",
    "version": 3
   },
   "file_extension": ".py",
   "mimetype": "text/x-python",
   "name": "python",
   "nbconvert_exporter": "python",
   "pygments_lexer": "ipython3",
   "version": "3.9.7"
  }
 },
 "nbformat": 4,
 "nbformat_minor": 5
}
