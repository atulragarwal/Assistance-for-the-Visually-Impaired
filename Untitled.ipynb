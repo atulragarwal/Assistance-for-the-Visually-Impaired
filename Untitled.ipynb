{
 "cells": [
  {
   "cell_type": "code",
   "execution_count": 1,
   "id": "a4526a99",
   "metadata": {},
   "outputs": [],
   "source": [
    "import os\n",
    "# os.environ['KMP_DUPLICATE_LIB_OK']=\"TRUE\"\n",
    "\n",
    "\n",
    "import numpy as np\n",
    "import pandas as pd\n",
    "# import torchvision.transforms.functional as TF\n",
    "# import torch\n",
    "# import torch.nn as nn\n",
    "# import torch.optim as optim\n",
    "# import torchvision\n",
    "# from skimage.io import imread_collection\n",
    "# from skimage import data, img_as_float, io, exposure\n",
    "# from customData import CustomImageDataset\n",
    "# from torch.utils.data import DataLoader\n",
    "# import torchvision.transforms as transforms\n",
    "# from tqdm import tqdm\n",
    "# from noteModel import NeuralNetwork\n",
    "# from PIL import Image"
   ]
  },
  {
   "cell_type": "code",
   "execution_count": 2,
   "id": "1772b580",
   "metadata": {},
   "outputs": [],
   "source": [
    "completePath = \"GroceryStoreDataset-master\\dataset\\Test\\Fruit/\"\n",
    "categories = [\"Avocado\", \"Banana\", \"Kiwi\", \"Lemon\", \"Lime\", \"Mango\", \"Nectarine\", \"Orange\", \"Papaya\", \"Passion-Fruit\", \"Peach\", \"Pineapple\", \"Plum\", \"Pomegranate\", \"Red-Grapefruit\"]\n",
    "\n",
    "completeList = []\n",
    "for i in range(len(categories)):\n",
    "    string = completePath+categories[i]\n",
    "    for names in os.listdir(string):\n",
    "        temp = [names, i]\n",
    "        completeList.append(temp)"
   ]
  },
  {
   "cell_type": "code",
   "execution_count": 3,
   "id": "2e301f96",
   "metadata": {},
   "outputs": [
    {
     "data": {
      "text/plain": [
       "512"
      ]
     },
     "execution_count": 3,
     "metadata": {},
     "output_type": "execute_result"
    }
   ],
   "source": [
    "len(completeList)"
   ]
  },
  {
   "cell_type": "code",
   "execution_count": 4,
   "id": "d44a294b",
   "metadata": {},
   "outputs": [],
   "source": [
    "array = np.asarray(completeList)"
   ]
  },
  {
   "cell_type": "code",
   "execution_count": 5,
   "id": "51e172ce",
   "metadata": {},
   "outputs": [],
   "source": [
    "df = pd.DataFrame(data = array)"
   ]
  },
  {
   "cell_type": "code",
   "execution_count": 6,
   "id": "d341e444",
   "metadata": {},
   "outputs": [
    {
     "data": {
      "text/html": [
       "<div>\n",
       "<style scoped>\n",
       "    .dataframe tbody tr th:only-of-type {\n",
       "        vertical-align: middle;\n",
       "    }\n",
       "\n",
       "    .dataframe tbody tr th {\n",
       "        vertical-align: top;\n",
       "    }\n",
       "\n",
       "    .dataframe thead th {\n",
       "        text-align: right;\n",
       "    }\n",
       "</style>\n",
       "<table border=\"1\" class=\"dataframe\">\n",
       "  <thead>\n",
       "    <tr style=\"text-align: right;\">\n",
       "      <th></th>\n",
       "      <th>0</th>\n",
       "      <th>1</th>\n",
       "    </tr>\n",
       "  </thead>\n",
       "  <tbody>\n",
       "    <tr>\n",
       "      <th>0</th>\n",
       "      <td>Avocado_001.jpg</td>\n",
       "      <td>0</td>\n",
       "    </tr>\n",
       "    <tr>\n",
       "      <th>1</th>\n",
       "      <td>Avocado_002.jpg</td>\n",
       "      <td>0</td>\n",
       "    </tr>\n",
       "    <tr>\n",
       "      <th>2</th>\n",
       "      <td>Avocado_003.jpg</td>\n",
       "      <td>0</td>\n",
       "    </tr>\n",
       "    <tr>\n",
       "      <th>3</th>\n",
       "      <td>Avocado_004.jpg</td>\n",
       "      <td>0</td>\n",
       "    </tr>\n",
       "    <tr>\n",
       "      <th>4</th>\n",
       "      <td>Avocado_005.jpg</td>\n",
       "      <td>0</td>\n",
       "    </tr>\n",
       "    <tr>\n",
       "      <th>...</th>\n",
       "      <td>...</td>\n",
       "      <td>...</td>\n",
       "    </tr>\n",
       "    <tr>\n",
       "      <th>507</th>\n",
       "      <td>Red-Grapefruit_030.jpg</td>\n",
       "      <td>14</td>\n",
       "    </tr>\n",
       "    <tr>\n",
       "      <th>508</th>\n",
       "      <td>Red-Grapefruit_031.jpg</td>\n",
       "      <td>14</td>\n",
       "    </tr>\n",
       "    <tr>\n",
       "      <th>509</th>\n",
       "      <td>Red-Grapefruit_032.jpg</td>\n",
       "      <td>14</td>\n",
       "    </tr>\n",
       "    <tr>\n",
       "      <th>510</th>\n",
       "      <td>Red-Grapefruit_033.jpg</td>\n",
       "      <td>14</td>\n",
       "    </tr>\n",
       "    <tr>\n",
       "      <th>511</th>\n",
       "      <td>Red-Grapefruit_034.jpg</td>\n",
       "      <td>14</td>\n",
       "    </tr>\n",
       "  </tbody>\n",
       "</table>\n",
       "<p>512 rows × 2 columns</p>\n",
       "</div>"
      ],
      "text/plain": [
       "                          0   1\n",
       "0           Avocado_001.jpg   0\n",
       "1           Avocado_002.jpg   0\n",
       "2           Avocado_003.jpg   0\n",
       "3           Avocado_004.jpg   0\n",
       "4           Avocado_005.jpg   0\n",
       "..                      ...  ..\n",
       "507  Red-Grapefruit_030.jpg  14\n",
       "508  Red-Grapefruit_031.jpg  14\n",
       "509  Red-Grapefruit_032.jpg  14\n",
       "510  Red-Grapefruit_033.jpg  14\n",
       "511  Red-Grapefruit_034.jpg  14\n",
       "\n",
       "[512 rows x 2 columns]"
      ]
     },
     "execution_count": 6,
     "metadata": {},
     "output_type": "execute_result"
    }
   ],
   "source": [
    "df"
   ]
  },
  {
   "cell_type": "code",
   "execution_count": 7,
   "id": "78036a04",
   "metadata": {},
   "outputs": [],
   "source": [
    "df.to_csv('groceryLabelTest.csv')"
   ]
  },
  {
   "cell_type": "code",
   "execution_count": null,
   "id": "50fc28bc",
   "metadata": {},
   "outputs": [],
   "source": []
  }
 ],
 "metadata": {
  "kernelspec": {
   "display_name": "Python 3 (ipykernel)",
   "language": "python",
   "name": "python3"
  },
  "language_info": {
   "codemirror_mode": {
    "name": "ipython",
    "version": 3
   },
   "file_extension": ".py",
   "mimetype": "text/x-python",
   "name": "python",
   "nbconvert_exporter": "python",
   "pygments_lexer": "ipython3",
   "version": "3.9.7"
  }
 },
 "nbformat": 4,
 "nbformat_minor": 5
}
